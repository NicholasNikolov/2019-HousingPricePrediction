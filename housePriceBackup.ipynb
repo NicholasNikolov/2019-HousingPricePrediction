{
 "cells": [
  {
   "cell_type": "code",
   "execution_count": null,
   "metadata": {},
   "outputs": [],
   "source": [
    "import pandas as pd\n",
    "import numpy as np\n",
    "import seaborn as sns\n",
    "import matplotlib.pyplot as plt\n",
    "from sklearn.preprocessing import OneHotEncoder\n",
    "from sklearn.linear_model import LinearRegression\n",
    "from sklearn.preprocessing import Imputer\n",
    "import statsmodels.api as sm\n",
    "import statsmodels.formula.api as smf\n",
    "from sklearn.preprocessing import PolynomialFeatures\n",
    "from sklearn.model_selection import train_test_split"
   ]
  },
  {
   "cell_type": "markdown",
   "metadata": {},
   "source": [
    "***\n",
    "## __Initial Read-in and Dataset Observation__\n",
    "***"
   ]
  },
  {
   "cell_type": "code",
   "execution_count": null,
   "metadata": {},
   "outputs": [],
   "source": [
    "# Options to allow me to see every attribute in this dataset\n",
    "pd.set_option('display.max_columns', None)\n",
    "pd.set_option('display.max_rows', None)\n",
    "\n",
    "# Read the dataset in\n",
    "df = pd.read_csv(\"D:\\\\School\\\\Summer_2019\\\\HousingPriceCompetition\\\\house-prices-advanced-regression-techniques\\\\train.csv\")\n",
    "\n",
    "# Display the top values of the dataset\n",
    "df.head()\n",
    "\n",
    "# Shape of the design matrix showing that there are 81 attributes (not yet accounting for the fact that one is id) and 1460 observations\n",
    "print(df.shape)\n",
    "\n",
    "# Display the data type of each attribute.\n",
    "# df.dtypes\n",
    "\n",
    "# Observation indicates several qualitative variables which must be OneHotEncoded in order to be properly studied.\n",
    "#df.dtypes[[0][0]] # This code allows for extraction of each individual data type."
   ]
  },
  {
   "cell_type": "code",
   "execution_count": null,
   "metadata": {},
   "outputs": [],
   "source": [
    "dfVis = df.select_dtypes(exclude=['object'])\n",
    "plt.figure(figsize=(24, 18))\n",
    "sns.heatmap(dfVis.corr(),\n",
    "            annot = True,\n",
    "           cmap = 'coolwarm')"
   ]
  },
  {
   "cell_type": "code",
   "execution_count": null,
   "metadata": {},
   "outputs": [],
   "source": [
    "# Most correlated variables with saleprice such that they are >=abs(0.5):\n",
    "# Pos: OverallQual, YearBuilt, YearRemodAdd,TotalBsmtSF, 1stFlrSF, GrLivArea, FullBath, TotRmsAbvGrd, GarageCars, GarageArea\n",
    "\n",
    "# >= 0.4 <=0.5:\n",
    "# MasVnrArea, Fireplaces, GarageYrBlt"
   ]
  },
  {
   "cell_type": "code",
   "execution_count": null,
   "metadata": {},
   "outputs": [],
   "source": [
    "contVars = np.empty(len(list(dfVis)),dtype=object)\n",
    "for i in range(len(list(dfVis.corr().iloc[0]))):\n",
    "    corrWithResponse = dfVis.corr().iloc[i][-1]\n",
    "    if corrWithResponse > 0.25:\n",
    "        contVars[i] = list(dfVis)[i]\n",
    "\n",
    "dfVis.corr().iloc[0][-1]"
   ]
  },
  {
   "cell_type": "code",
   "execution_count": null,
   "metadata": {},
   "outputs": [],
   "source": [
    "contVars = contVars[contVars != None]\n",
    "dfVis = dfVis[contVars]"
   ]
  },
  {
   "cell_type": "markdown",
   "metadata": {},
   "source": [
    "***\n",
    "## __Data Preprocessing__\n",
    "***"
   ]
  },
  {
   "cell_type": "code",
   "execution_count": null,
   "metadata": {},
   "outputs": [],
   "source": [
    "df.head()"
   ]
  },
  {
   "cell_type": "code",
   "execution_count": null,
   "metadata": {},
   "outputs": [],
   "source": [
    "Qualitative_df = df.select_dtypes(exclude=['int64','float64'])"
   ]
  },
  {
   "cell_type": "code",
   "execution_count": null,
   "metadata": {},
   "outputs": [],
   "source": [
    "df = pd.concat([dfVis,Qualitative_df],axis=1)"
   ]
  },
  {
   "cell_type": "code",
   "execution_count": null,
   "metadata": {},
   "outputs": [],
   "source": [
    "# Count the number of instances of a particular qualitative variable\n",
    "df['Street'].value_counts()"
   ]
  },
  {
   "cell_type": "code",
   "execution_count": null,
   "metadata": {},
   "outputs": [],
   "source": [
    "# Removes rows for instances where a column has an entry with only 1 observation of a certain\n",
    "# qualitative type.\n",
    "for factor in Qualitative_df:\n",
    "    df = df[df[factor].duplicated(keep=False)]"
   ]
  },
  {
   "cell_type": "code",
   "execution_count": null,
   "metadata": {},
   "outputs": [],
   "source": [
    "df.shape"
   ]
  },
  {
   "cell_type": "code",
   "execution_count": null,
   "metadata": {},
   "outputs": [],
   "source": [
    "# Drop ID and Utilities because Utilities has not variability.\n",
    "df = df.drop(['Utilities'],axis=1)"
   ]
  },
  {
   "cell_type": "code",
   "execution_count": null,
   "metadata": {},
   "outputs": [],
   "source": [
    "# Create the design matrix and response vector.\n",
    "X = df.drop(['SalePrice'],axis=1)\n",
    "y = df['SalePrice']"
   ]
  },
  {
   "cell_type": "code",
   "execution_count": null,
   "metadata": {},
   "outputs": [],
   "source": [
    "# OneHotEncoding the qualitative variables as necessary. This is the automatic way. I might need to manually remove some variables later.\n",
    "X = pd.get_dummies(X,dtype=np.float64)"
   ]
  },
  {
   "cell_type": "code",
   "execution_count": null,
   "metadata": {},
   "outputs": [],
   "source": [
    "X.head()"
   ]
  },
  {
   "cell_type": "code",
   "execution_count": null,
   "metadata": {},
   "outputs": [],
   "source": [
    "# Counting NaN values because the regression model can't fit and imputing\n",
    "# X.isna().sum() \n",
    "# y.isna().sum()\n",
    "\n",
    "imputer = Imputer(missing_values=np.nan, strategy='mean')\n",
    "X = imputer.fit_transform(X)"
   ]
  },
  {
   "cell_type": "code",
   "execution_count": null,
   "metadata": {},
   "outputs": [],
   "source": [
    "# Train/test Split\n",
    "X_train, X_test, y_train, y_test = train_test_split(X, y, test_size=0.25, random_state=55)"
   ]
  },
  {
   "cell_type": "code",
   "execution_count": null,
   "metadata": {},
   "outputs": [],
   "source": [
    "y[:3]"
   ]
  },
  {
   "cell_type": "markdown",
   "metadata": {},
   "source": [
    "***\n",
    "## __Statistical Modeling__\n",
    "***"
   ]
  },
  {
   "cell_type": "code",
   "execution_count": null,
   "metadata": {},
   "outputs": [],
   "source": [
    "poly = PolynomialFeatures(2)\n",
    "poly.fit_transform(df[contVars])"
   ]
  }
 ],
 "metadata": {
  "kernelspec": {
   "display_name": "Python 3",
   "language": "python",
   "name": "python3"
  },
  "language_info": {
   "codemirror_mode": {
    "name": "ipython",
    "version": 3
   },
   "file_extension": ".py",
   "mimetype": "text/x-python",
   "name": "python",
   "nbconvert_exporter": "python",
   "pygments_lexer": "ipython3",
   "version": "3.7.0"
  }
 },
 "nbformat": 4,
 "nbformat_minor": 2
}
